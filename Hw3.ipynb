{
 "cells": [
  {
   "cell_type": "code",
   "execution_count": 2,
   "id": "4c5aab2f",
   "metadata": {},
   "outputs": [
    {
     "name": "stdout",
     "output_type": "stream",
     "text": [
      "Mean of data:  170.0\n",
      "Standard deviation of data:  40.2077936060494\n",
      "Variance of data:  1616.6666666666667\n"
     ]
    }
   ],
   "source": [
    "# Define the array of data (example: monthly sales data)\n",
    "data = [100, 120, 130, 140, 150, 170, 180, 190, 200, 210, 220, 230]\n",
    "\n",
    "# Define the function to calculate the mean of the array\n",
    "def mean(data):\n",
    "    return sum(data) / len(data)\n",
    "\n",
    "# Calculate the mean of the data\n",
    "mean_data = mean(data)\n",
    "\n",
    "# Print the mean of the data\n",
    "print(\"Mean of data: \", mean_data)\n",
    "\n",
    "# Define the function to calculate the standard deviation of the array\n",
    "def standard_deviation(data):\n",
    "    mean_data = mean(data)\n",
    "    variance = sum([(x-mean_data)**2 for x in data]) / len(data)\n",
    "    return variance ** 0.5\n",
    "\n",
    "# Calculate the standard deviation of the data\n",
    "std_dev = standard_deviation(data)\n",
    "\n",
    "# Print the standard deviation of the data\n",
    "print(\"Standard deviation of data: \", std_dev)\n",
    "\n",
    "# Define the function to calculate the variance of the array\n",
    "def variance(data):\n",
    "    mean_data = mean(data)\n",
    "    variance = sum([(x-mean_data)**2 for x in data]) / len(data)\n",
    "    return variance\n",
    "\n",
    "# Calculate the variance of the data\n",
    "var_data = variance(data)\n",
    "\n",
    "# Print the variance of the data\n",
    "print(\"Variance of data: \", var_data)\n"
   ]
  },
  {
   "cell_type": "code",
   "execution_count": null,
   "id": "bfc9d434",
   "metadata": {},
   "outputs": [],
   "source": []
  }
 ],
 "metadata": {
  "kernelspec": {
   "display_name": "Python 3 (ipykernel)",
   "language": "python",
   "name": "python3"
  },
  "language_info": {
   "codemirror_mode": {
    "name": "ipython",
    "version": 3
   },
   "file_extension": ".py",
   "mimetype": "text/x-python",
   "name": "python",
   "nbconvert_exporter": "python",
   "pygments_lexer": "ipython3",
   "version": "3.9.13"
  }
 },
 "nbformat": 4,
 "nbformat_minor": 5
}
